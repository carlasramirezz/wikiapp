{
 "cells": [
  {
   "cell_type": "markdown",
   "id": "a76df3ad-18dc-46a7-b3f0-815b07dc047f",
   "metadata": {},
   "source": [
    "---\n",
    "title: Console Module\n",
    "---"
   ]
  },
  {
   "cell_type": "code",
   "execution_count": 5,
   "id": "fa336a89-a21a-4c20-b128-3e1649c3d121",
   "metadata": {},
   "outputs": [],
   "source": [
    "from wikiapp.console import main"
   ]
  },
  {
   "cell_type": "code",
   "execution_count": 6,
   "id": "add16770-839c-4f06-8ff4-3bc996fe46b2",
   "metadata": {},
   "outputs": [],
   "source": [
    "from nbdev import show_doc"
   ]
  },
  {
   "cell_type": "code",
   "execution_count": 7,
   "id": "08ecf39e-0d39-47b7-acdb-a101a916ee8d",
   "metadata": {},
   "outputs": [
    {
     "data": {
      "text/markdown": [
       "---\n",
       "\n",
       "### <Command main>\n",
       "\n",
       ">      <Command main> (*args:Any, **kwargs:Any)\n",
       "\n",
       "*This is the console interface to `random page` function in wikipedia.py.\n",
       "\n",
       "It comes with cool colors!*"
      ],
      "text/plain": [
       "---\n",
       "\n",
       "### <Command main>\n",
       "\n",
       ">      <Command main> (*args:Any, **kwargs:Any)\n",
       "\n",
       "*This is the console interface to `random page` function in wikipedia.py.\n",
       "\n",
       "It comes with cool colors!*"
      ]
     },
     "execution_count": 7,
     "metadata": {},
     "output_type": "execute_result"
    }
   ],
   "source": [
    "show_doc(main)"
   ]
  }
 ],
 "metadata": {
  "kernelspec": {
   "display_name": "Python 3 (ipykernel)",
   "language": "python",
   "name": "python3"
  },
  "language_info": {
   "codemirror_mode": {
    "name": "ipython",
    "version": 3
   },
   "file_extension": ".py",
   "mimetype": "text/x-python",
   "name": "python",
   "nbconvert_exporter": "python",
   "pygments_lexer": "ipython3",
   "version": "3.12.3"
  }
 },
 "nbformat": 4,
 "nbformat_minor": 5
}
