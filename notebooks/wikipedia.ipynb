{
 "cells": [
  {
   "cell_type": "markdown",
   "id": "6e9d8895-052c-4cf9-ab78-5d15d1f52544",
   "metadata": {},
   "source": [
    "---\n",
    "title: Wikipedia Module\n",
    "---"
   ]
  },
  {
   "cell_type": "code",
   "execution_count": 1,
   "id": "91049208-8193-4b0f-8ddb-29795fd1feff",
   "metadata": {},
   "outputs": [],
   "source": [
    "from wikiapp.wikipedia import random_page, Page"
   ]
  },
  {
   "cell_type": "code",
   "execution_count": 2,
   "id": "c4dca45a-0053-4410-9f2b-d4d09afe0b14",
   "metadata": {},
   "outputs": [],
   "source": [
    "from nbdev import show_doc"
   ]
  },
  {
   "cell_type": "code",
   "execution_count": 3,
   "id": "f8d9104c-b6aa-455e-9332-a6930b62133f",
   "metadata": {},
   "outputs": [
    {
     "data": {
      "text/markdown": [
       "---\n",
       "\n",
       "### Page\n",
       "\n",
       ">      Page (title:str, extract:str)\n",
       "\n",
       "*A page dataclass to represent the return value from Wikipedia*"
      ],
      "text/plain": [
       "---\n",
       "\n",
       "### Page\n",
       "\n",
       ">      Page (title:str, extract:str)\n",
       "\n",
       "*A page dataclass to represent the return value from Wikipedia*"
      ]
     },
     "execution_count": 3,
     "metadata": {},
     "output_type": "execute_result"
    }
   ],
   "source": [
    "show_doc(Page)"
   ]
  },
  {
   "cell_type": "code",
   "execution_count": 4,
   "id": "438ced39-1561-49e4-a1c9-a936e1519be4",
   "metadata": {},
   "outputs": [
    {
     "data": {
      "text/markdown": [
       "---\n",
       "\n",
       "### random_page\n",
       "\n",
       ">      random_page (language:str='en')\n",
       "\n",
       "*Get a random page from Wikipedia.*\n",
       "\n",
       "|    | **Type** | **Default** | **Details** |\n",
       "| -- | -------- | ----------- | ----------- |\n",
       "| language | str | en | The language you want to use, as a two character string. |\n",
       "| **Returns** | **Page** |  | **Returns a page object.** |"
      ],
      "text/plain": [
       "---\n",
       "\n",
       "### random_page\n",
       "\n",
       ">      random_page (language:str='en')\n",
       "\n",
       "*Get a random page from Wikipedia.*\n",
       "\n",
       "|    | **Type** | **Default** | **Details** |\n",
       "| -- | -------- | ----------- | ----------- |\n",
       "| language | str | en | The language you want to use, as a two character string. |\n",
       "| **Returns** | **Page** |  | **Returns a page object.** |"
      ]
     },
     "execution_count": 4,
     "metadata": {},
     "output_type": "execute_result"
    }
   ],
   "source": [
    "show_doc(random_page)"
   ]
  },
  {
   "cell_type": "markdown",
   "id": "0401b2d7-2d81-4e6d-afc5-ad4b03140066",
   "metadata": {},
   "source": [
    "##  Examples"
   ]
  },
  {
   "cell_type": "code",
   "execution_count": 5,
   "id": "a2f66c29-90b6-41eb-9240-6f4743b5a700",
   "metadata": {},
   "outputs": [
    {
     "name": "stdout",
     "output_type": "stream",
     "text": [
      "TITLE Jadwiga Szoszler-Wilejto\n",
      "EXTRACT Jadwiga Szoszler-Wilejto is a former Polish female Archer. She represented Poland at the Olympics on three occasions.\n"
     ]
    }
   ],
   "source": [
    "page = random_page()\n",
    "print(\"TITLE\", page.title)\n",
    "print(\"EXTRACT\", page.extract)"
   ]
  },
  {
   "cell_type": "markdown",
   "id": "8029d356-8264-43de-b191-c4a0557cd3e1",
   "metadata": {},
   "source": [
    "If you do this again, you will get another random page."
   ]
  },
  {
   "cell_type": "code",
   "execution_count": 6,
   "id": "c624ce21-406d-45de-9f82-8f7c876ae9b5",
   "metadata": {},
   "outputs": [
    {
     "name": "stdout",
     "output_type": "stream",
     "text": [
      "TITLE Kaye Hall\n",
      "EXTRACT Kaye Marie Hall, later known by her married name Kaye Greff, is an American former competition swimmer, two-time Olympic champion, and former world record-holder in two events.\n"
     ]
    }
   ],
   "source": [
    "page = random_page()\n",
    "print(\"TITLE\", page.title)\n",
    "print(\"EXTRACT\", page.extract)"
   ]
  },
  {
   "cell_type": "markdown",
   "id": "450efa38-9fb3-46a8-b505-99eb205ae9b4",
   "metadata": {},
   "source": [
    "You can change the language you want"
   ]
  },
  {
   "cell_type": "code",
   "execution_count": 7,
   "id": "69d87fa1-9166-4629-bb53-bede2d20c905",
   "metadata": {},
   "outputs": [
    {
     "name": "stdout",
     "output_type": "stream",
     "text": [
      "TITLE Sam Altman\n",
      "EXTRACT Sam Altman est un homme d'affaires américain né le 22 avril 1985 à Chicago. Il est cofondateur avec Elon Musk de l'organisation à but lucratif plafonné OpenAI, dont il est le directeur général. En novembre 2023, son limogeage provoque une crise au sein de la société, il est alors réintégré à son poste cinq jours plus tard par un conseil d'administration remanié.\n"
     ]
    }
   ],
   "source": [
    "page = random_page(language=\"fr\")\n",
    "print(\"TITLE\", page.title)\n",
    "print(\"EXTRACT\", page.extract)"
   ]
  },
  {
   "cell_type": "code",
   "execution_count": 8,
   "id": "5603e8e7-23c2-458e-aa9b-b2a519cab065",
   "metadata": {},
   "outputs": [
    {
     "name": "stdout",
     "output_type": "stream",
     "text": [
      "TITLE Russ Giguere\n",
      "EXTRACT Russell Giguere es un músico estadounidense, ampliamente conocido por su trabajo en The Association.\n"
     ]
    }
   ],
   "source": [
    "page = random_page(language=\"es\")\n",
    "print(\"TITLE\", page.title)\n",
    "print(\"EXTRACT\", page.extract)"
   ]
  }
 ],
 "metadata": {
  "kernelspec": {
   "display_name": "Python 3 (ipykernel)",
   "language": "python",
   "name": "python3"
  },
  "language_info": {
   "codemirror_mode": {
    "name": "ipython",
    "version": 3
   },
   "file_extension": ".py",
   "mimetype": "text/x-python",
   "name": "python",
   "nbconvert_exporter": "python",
   "pygments_lexer": "ipython3",
   "version": "3.12.3"
  }
 },
 "nbformat": 4,
 "nbformat_minor": 5
}
